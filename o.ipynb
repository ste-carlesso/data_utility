{
 "cells": [
  {
   "cell_type": "code",
   "execution_count": 1,
   "metadata": {
    "tags": []
   },
   "outputs": [
    {
     "output_type": "stream",
     "name": "stdout",
     "text": "appunti.py  elab_l.py      \u001b[0m\u001b[01;34mlib\u001b[0m/         nota_per_utente.txt  stations.csv\nelab_G.py   elab_n.py      libreria.py  o.ipynb              stations.ods\nelab_H.py   elab_o.py      metadata.py  preproc.fish\nelab_i.py   istruzioni.md  my.ipynb     \u001b[01;34m__pycache__\u001b[0m/\n"
    }
   ],
   "source": [
    "%ls"
   ]
  },
  {
   "cell_type": "code",
   "execution_count": 2,
   "metadata": {
    "tags": []
   },
   "outputs": [
    {
     "output_type": "stream",
     "name": "stdout",
     "text": "[Errno 2] No such file or directory: 'projects/'\n/home/ste/projects/data_utility\n"
    }
   ],
   "source": [
    "cd projects/"
   ]
  },
  {
   "cell_type": "code",
   "execution_count": 3,
   "metadata": {
    "tags": []
   },
   "outputs": [
    {
     "output_type": "stream",
     "name": "stdout",
     "text": "appunti.py  elab_l.py      \u001b[0m\u001b[01;34mlib\u001b[0m/         nota_per_utente.txt  stations.csv\nelab_G.py   elab_n.py      libreria.py  o.ipynb              stations.ods\nelab_H.py   elab_o.py      metadata.py  preproc.fish\nelab_i.py   istruzioni.md  my.ipynb     \u001b[01;34m__pycache__\u001b[0m/\n"
    }
   ],
   "source": [
    "ls"
   ]
  },
  {
   "cell_type": "code",
   "execution_count": 4,
   "metadata": {
    "tags": []
   },
   "outputs": [
    {
     "output_type": "stream",
     "name": "stdout",
     "text": "[Errno 2] No such file or directory: 'data_utility/'\n/home/ste/projects/data_utility\n"
    }
   ],
   "source": [
    "cd data_utility/"
   ]
  },
  {
   "cell_type": "code",
   "execution_count": 5,
   "metadata": {},
   "outputs": [],
   "source": [
    "%run elab_o.py"
   ]
  },
  {
   "cell_type": "code",
   "execution_count": 6,
   "metadata": {},
   "outputs": [
    {
     "output_type": "execute_result",
     "data": {
      "text/plain": "                   datetime  temperature            naive_dt  \\\n0       2013-06-21 12:35:00         25.2 2013-06-21 12:35:00   \n1       2013-06-21 13:00:00         26.2 2013-06-21 13:00:00   \n2       2013-06-21 13:05:00         26.2 2013-06-21 13:05:00   \n3       2013-06-21 13:10:00         26.1 2013-06-21 13:10:00   \n4       2013-06-21 13:15:00         26.2 2013-06-21 13:15:00   \n...                     ...          ...                 ...   \n509112  2019-06-30 23:30:00         29.5 2019-06-30 23:30:00   \n509113  2019-06-30 23:35:00         29.2 2019-06-30 23:35:00   \n509114  2019-06-30 23:40:00         29.2 2019-06-30 23:40:00   \n509115  2019-06-30 23:45:00         29.1 2019-06-30 23:45:00   \n509116  2019-06-30 23:55:00         28.7 2019-06-30 23:55:00   \n\n                      italian_dt                  solar_dt  \n0      2013-06-21 12:35:00+02:00 2013-06-21 11:35:00+01:00  \n1      2013-06-21 13:00:00+02:00 2013-06-21 12:00:00+01:00  \n2      2013-06-21 13:05:00+02:00 2013-06-21 12:05:00+01:00  \n3      2013-06-21 13:10:00+02:00 2013-06-21 12:10:00+01:00  \n4      2013-06-21 13:15:00+02:00 2013-06-21 12:15:00+01:00  \n...                          ...                       ...  \n509112 2019-06-30 23:30:00+02:00 2019-06-30 22:30:00+01:00  \n509113 2019-06-30 23:35:00+02:00 2019-06-30 22:35:00+01:00  \n509114 2019-06-30 23:40:00+02:00 2019-06-30 22:40:00+01:00  \n509115 2019-06-30 23:45:00+02:00 2019-06-30 22:45:00+01:00  \n509116 2019-06-30 23:55:00+02:00 2019-06-30 22:55:00+01:00  \n\n[509117 rows x 5 columns]",
      "text/html": "<div>\n<style scoped>\n    .dataframe tbody tr th:only-of-type {\n        vertical-align: middle;\n    }\n\n    .dataframe tbody tr th {\n        vertical-align: top;\n    }\n\n    .dataframe thead th {\n        text-align: right;\n    }\n</style>\n<table border=\"1\" class=\"dataframe\">\n  <thead>\n    <tr style=\"text-align: right;\">\n      <th></th>\n      <th>datetime</th>\n      <th>temperature</th>\n      <th>naive_dt</th>\n      <th>italian_dt</th>\n      <th>solar_dt</th>\n    </tr>\n  </thead>\n  <tbody>\n    <tr>\n      <th>0</th>\n      <td>2013-06-21 12:35:00</td>\n      <td>25.2</td>\n      <td>2013-06-21 12:35:00</td>\n      <td>2013-06-21 12:35:00+02:00</td>\n      <td>2013-06-21 11:35:00+01:00</td>\n    </tr>\n    <tr>\n      <th>1</th>\n      <td>2013-06-21 13:00:00</td>\n      <td>26.2</td>\n      <td>2013-06-21 13:00:00</td>\n      <td>2013-06-21 13:00:00+02:00</td>\n      <td>2013-06-21 12:00:00+01:00</td>\n    </tr>\n    <tr>\n      <th>2</th>\n      <td>2013-06-21 13:05:00</td>\n      <td>26.2</td>\n      <td>2013-06-21 13:05:00</td>\n      <td>2013-06-21 13:05:00+02:00</td>\n      <td>2013-06-21 12:05:00+01:00</td>\n    </tr>\n    <tr>\n      <th>3</th>\n      <td>2013-06-21 13:10:00</td>\n      <td>26.1</td>\n      <td>2013-06-21 13:10:00</td>\n      <td>2013-06-21 13:10:00+02:00</td>\n      <td>2013-06-21 12:10:00+01:00</td>\n    </tr>\n    <tr>\n      <th>4</th>\n      <td>2013-06-21 13:15:00</td>\n      <td>26.2</td>\n      <td>2013-06-21 13:15:00</td>\n      <td>2013-06-21 13:15:00+02:00</td>\n      <td>2013-06-21 12:15:00+01:00</td>\n    </tr>\n    <tr>\n      <th>...</th>\n      <td>...</td>\n      <td>...</td>\n      <td>...</td>\n      <td>...</td>\n      <td>...</td>\n    </tr>\n    <tr>\n      <th>509112</th>\n      <td>2019-06-30 23:30:00</td>\n      <td>29.5</td>\n      <td>2019-06-30 23:30:00</td>\n      <td>2019-06-30 23:30:00+02:00</td>\n      <td>2019-06-30 22:30:00+01:00</td>\n    </tr>\n    <tr>\n      <th>509113</th>\n      <td>2019-06-30 23:35:00</td>\n      <td>29.2</td>\n      <td>2019-06-30 23:35:00</td>\n      <td>2019-06-30 23:35:00+02:00</td>\n      <td>2019-06-30 22:35:00+01:00</td>\n    </tr>\n    <tr>\n      <th>509114</th>\n      <td>2019-06-30 23:40:00</td>\n      <td>29.2</td>\n      <td>2019-06-30 23:40:00</td>\n      <td>2019-06-30 23:40:00+02:00</td>\n      <td>2019-06-30 22:40:00+01:00</td>\n    </tr>\n    <tr>\n      <th>509115</th>\n      <td>2019-06-30 23:45:00</td>\n      <td>29.1</td>\n      <td>2019-06-30 23:45:00</td>\n      <td>2019-06-30 23:45:00+02:00</td>\n      <td>2019-06-30 22:45:00+01:00</td>\n    </tr>\n    <tr>\n      <th>509116</th>\n      <td>2019-06-30 23:55:00</td>\n      <td>28.7</td>\n      <td>2019-06-30 23:55:00</td>\n      <td>2019-06-30 23:55:00+02:00</td>\n      <td>2019-06-30 22:55:00+01:00</td>\n    </tr>\n  </tbody>\n</table>\n<p>509117 rows × 5 columns</p>\n</div>"
     },
     "metadata": {},
     "execution_count": 6
    }
   ],
   "source": [
    "df1"
   ]
  },
  {
   "cell_type": "code",
   "execution_count": 31,
   "metadata": {},
   "outputs": [
    {
     "output_type": "execute_result",
     "data": {
      "text/plain": "<bound method NDFrame.describe of                    datetime  temperature            naive_dt  \\\n0       2013-06-21 12:35:00         25.2 2013-06-21 12:35:00   \n1       2013-06-21 13:00:00         26.2 2013-06-21 13:00:00   \n2       2013-06-21 13:05:00         26.2 2013-06-21 13:05:00   \n3       2013-06-21 13:10:00         26.1 2013-06-21 13:10:00   \n4       2013-06-21 13:15:00         26.2 2013-06-21 13:15:00   \n...                     ...          ...                 ...   \n509112  2019-06-30 23:30:00         29.5 2019-06-30 23:30:00   \n509113  2019-06-30 23:35:00         29.2 2019-06-30 23:35:00   \n509114  2019-06-30 23:40:00         29.2 2019-06-30 23:40:00   \n509115  2019-06-30 23:45:00         29.1 2019-06-30 23:45:00   \n509116  2019-06-30 23:55:00         28.7 2019-06-30 23:55:00   \n\n                      italian_dt                  solar_dt  \n0      2013-06-21 12:35:00+02:00 2013-06-21 11:35:00+01:00  \n1      2013-06-21 13:00:00+02:00 2013-06-21 12:00:00+01:00  \n2      2013-06-21 13:05:00+02:00 2013-06-21 12:05:00+01:00  \n3      2013-06-21 13:10:00+02:00 2013-06-21 12:10:00+01:00  \n4      2013-06-21 13:15:00+02:00 2013-06-21 12:15:00+01:00  \n...                          ...                       ...  \n509112 2019-06-30 23:30:00+02:00 2019-06-30 22:30:00+01:00  \n509113 2019-06-30 23:35:00+02:00 2019-06-30 22:35:00+01:00  \n509114 2019-06-30 23:40:00+02:00 2019-06-30 22:40:00+01:00  \n509115 2019-06-30 23:45:00+02:00 2019-06-30 22:45:00+01:00  \n509116 2019-06-30 23:55:00+02:00 2019-06-30 22:55:00+01:00  \n\n[509117 rows x 5 columns]>"
     },
     "metadata": {},
     "execution_count": 31
    }
   ],
   "source": [
    "df1.describe"
   ]
  },
  {
   "cell_type": "code",
   "execution_count": null,
   "metadata": {},
   "outputs": [],
   "source": []
  }
 ],
 "metadata": {
  "language_info": {
   "codemirror_mode": {
    "name": "ipython",
    "version": 3
   },
   "file_extension": ".py",
   "mimetype": "text/x-python",
   "name": "python",
   "nbconvert_exporter": "python",
   "pygments_lexer": "ipython3",
   "version": 3
  },
  "orig_nbformat": 2,
  "kernelspec": {
   "name": "python_defaultSpec_1593610192298",
   "display_name": "Python 3.6.9 64-bit"
  }
 },
 "nbformat": 4,
 "nbformat_minor": 2
}