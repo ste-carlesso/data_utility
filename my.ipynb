{
 "cells": [
  {
   "cell_type": "code",
   "execution_count": 64,
   "metadata": {
    "collapsed": true,
    "jupyter": {
     "outputs_hidden": true
    }
   },
   "outputs": [],
   "source": [
    "\"\"\"Elaborazione H, non divisi, ma effettuata la media oraria\n",
    "\"\"\"\n",
    "from libreria import good_stations, label_dict\n",
    "import pandas as pd\n",
    "import pytz, os, time\n",
    "\n",
    "input_file = \"input/fomd1/lmb080.csv\"\n",
    "\n",
    "good_stations = [\"lmb080\",]\n",
    "\n",
    "output_dir = str(round(time.time()))\n",
    "\n",
    "os.mkdir(output_dir)\n",
    "\n",
    "for station in good_stations:\n",
    "    df0_list = []\n",
    "    for input_dir in [\"fomd1\", \"fomd2\", \"fomd3\"]:\n",
    "        path = \"../input/{}/{}.csv\".format(input_dir, station)\n",
    "        df0 = pd.read_csv(filepath_or_buffer=path, sep=\";\", decimal =\".\")\n",
    "        df0[\"solar\"] = df0[\"datetime\"].apply(str2solar)\n",
    "        # get station code from the fist field\n",
    "        station_code = df0[\"code\"][1]\n",
    "        station_label = label_dict[station_code]\n",
    "        # rename column header\n",
    "        df0[station_label] = df0[\"temperature\"] \n",
    "        # only the field I need\n",
    "        df0 = df0[[\"solar\", station_label]]\n",
    "        df0_list.append(df0)\n",
    "    # unite the first two dataframes\n",
    "    # df1 = pd.merge(df0_list[0], df0_list[1], how=\"outer\", on=\"solar\")\n",
    "    # unite resulting dataframe to the third one\n",
    "    # df2 = pd.merge(df1, df0_list[2], how=\"outer\", on=\"solar\")\n",
    "    df3 = pd.concat(df0_list)\n",
    "    # just the columns I want\n",
    "    the_output_path = \"{}/{}_orari.xlsx\".format(output_dir, station_label)\n",
    "    #create_excel(df4, the_output_path)\n",
    "print(df3)\n",
    "\n",
    "for station in good_stations:\n",
    "    s0 = pd.read_csv(\n",
    "        filepath_or_buffer=input_file, \n",
    "        sep=\";\", \n",
    "        header=0,\n",
    "        usecols=[\"datetime\", \"temperature\"],\n",
    "        index_col=\"datetime\", \n",
    "        squeeze=True,\n",
    "        parse_dates=True,\n",
    "    )\n",
    "\n",
    "\n",
    "# this is a wall time\n",
    "naive = s0.index[-1]\n",
    "print(naive)\n",
    "\n",
    "\n",
    "\n",
    "\n",
    "\n",
    "ita_tz = pytz.timezone(\"Europe/Rome\")\n",
    "\n",
    "ita = naive.tz_localize(ita_tz)\n",
    "\n",
    "utc_tz = pytz.utc\n",
    "\n",
    "utc = ita.tz_convert(utc_tz)\n",
    "\n",
    "utc\n",
    "\n",
    "sol_tz = pytz.timezone(\"Etc/GMT-1\")\n",
    "\n",
    "sol = ita.tz_convert(sol_tz)"
   ]
  }
 ],
 "metadata": {
  "kernelspec": {
   "display_name": "Python 3.6.9 64-bit ('py3': venv)",
   "language": "python",
   "name": "python_defaultSpec_1593519025807"
  },
  "language_info": {
   "codemirror_mode": {
    "name": "ipython",
    "version": 3
   },
   "file_extension": ".py",
   "mimetype": "text/x-python",
   "name": "python",
   "nbconvert_exporter": "python",
   "pygments_lexer": "ipython3",
   "version": "3.6.9-final"
  }
 },
 "nbformat": 4,
 "nbformat_minor": 4
}